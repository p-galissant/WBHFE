{
 "cells": [
  {
   "cell_type": "markdown",
   "metadata": {},
   "source": [
    "## IMPORTS"
   ]
  },
  {
   "cell_type": "code",
   "execution_count": 1,
   "metadata": {},
   "outputs": [],
   "source": [
    "# FROM SAGE\n",
    "\n",
    "from sage.rings.polynomial.pbori.pbori import *\n",
    "from sage.rings.polynomial.pbori import *\n",
    "from sage.rings.polynomial.pbori.ll import ll_encode\n",
    "from sage.rings.polynomial.pbori.ll import ll_red_nf_redsb\n",
    "\n",
    "import time\n",
    "\n",
    "\n",
    "# FROM LOCAL FILES\n",
    "#load_attach_path with the correct path\n",
    "load(\"WBMULT_AFFMULT.sage\")\n",
    "load(\"WBMULT_TOOLBOX.sage\")\n",
    "load(\"WBMULT_CONVERTION.sage\")"
   ]
  },
  {
   "cell_type": "markdown",
   "metadata": {},
   "source": [
    "## PARAMETERS"
   ]
  },
  {
   "cell_type": "code",
   "execution_count": 2,
   "metadata": {},
   "outputs": [],
   "source": [
    "# Extension Degree\n",
    "n = 85\n",
    "# Number of minus equations\n",
    "a = 0\n",
    "# Size of packs for minus\n",
    "n_a = 0\n",
    "# Number of projected variables\n",
    "p = 0\n",
    "# Dimension of Im(Q) for hatplus\n",
    "t = 6\n",
    "# Size of packs for hatplus\n",
    "n_t = 3\n"
   ]
  },
  {
   "cell_type": "code",
   "execution_count": 3,
   "metadata": {},
   "outputs": [],
   "source": [
    "# Size of blocs for polynomial bit representation\n",
    "mbits = 1024\n",
    "# d_aff is the affine degree of the affine multiple\n",
    "d_aff = 3\n",
    "# Number of monomials in y \n",
    "Nmon = sigma(n,d_aff)\n",
    "Nint = int(Nmon/mbits)"
   ]
  },
  {
   "cell_type": "markdown",
   "metadata": {},
   "source": [
    "## STRUCTURE"
   ]
  },
  {
   "cell_type": "code",
   "execution_count": 4,
   "metadata": {},
   "outputs": [],
   "source": [
    "# EXTENSION (in z)\n",
    "# We use minimal weight polynomials to get fast reduction for polynomials later on.\n",
    "BIG_FIELD.<z> = GF(2**n,modulus='minimal_weight')\n",
    "# FRACTION RING (in y)\n",
    "PR = BIG_FIELD['y']\n",
    "y = PR.gens()[0]\n",
    "FR = Frac(PR)\n",
    "# POLYNOMIAL RING (in x)\n",
    "POLY_RING = PolynomialRing(FR,'x')\n",
    "x = POLY_RING.gens()[0]"
   ]
  },
  {
   "cell_type": "markdown",
   "metadata": {},
   "source": [
    "## INTERNAL POLYNOMIAL "
   ]
  },
  {
   "cell_type": "code",
   "execution_count": 5,
   "metadata": {},
   "outputs": [],
   "source": [
    "# Declaration of base \n",
    "coeff_1  = BIG_FIELD.random_element()\n",
    "F_poly  = x**3 + coeff_1*x**2"
   ]
  },
  {
   "cell_type": "code",
   "execution_count": 6,
   "metadata": {},
   "outputs": [],
   "source": [
    "# WITH SOME HATPLUS\n",
    "Im_Q_base  = [BIG_FIELD.random_element() for i in range(t)]"
   ]
  },
  {
   "cell_type": "code",
   "execution_count": 8,
   "metadata": {},
   "outputs": [],
   "source": [
    "# CORRECT IT TO COVER Im_Q\n",
    "F_hatplus = BIG_FIELD(1)\n",
    "# Draw n_t elt from Im Q\n",
    "Im_Q = []\n",
    "Im_Q_coeff_list = []\n",
    "for i in range(n_t):\n",
    "    ltemp = []\n",
    "    Poly_Im_Q = BIG_FIELD(0)\n",
    "    for j in range(t):\n",
    "        temp = choice([0,1])\n",
    "        ltemp.append(temp)\n",
    "        Poly_Im_Q = Poly_Im_Q + temp*Im_Q_base[j]    \n",
    "    Im_Q.append(Poly_Im_Q)\n",
    "    Im_Q_coeff_list.append(ltemp)\n",
    "for i in range(n_t):\n",
    "    F_hatplus = F_hatplus * (F_poly + y + Im_Q[i])"
   ]
  },
  {
   "cell_type": "code",
   "execution_count": 1,
   "metadata": {},
   "outputs": [],
   "source": [
    "#Im_Q_coeff_list\n",
    "#F_hatplus.monomials()"
   ]
  },
  {
   "cell_type": "markdown",
   "metadata": {},
   "source": [
    "## SMALL AFFINE MULTIPLE"
   ]
  },
  {
   "cell_type": "code",
   "execution_count": 11,
   "metadata": {},
   "outputs": [],
   "source": [
    "MON_RED  = mons_reduction(F_hatplus ,POLY_RING)\n",
    "# COMPUTING COEFFS in BIG_FIELD(y)\n",
    "Y_AFF = affine_coeffs(MON_RED)"
   ]
  },
  {
   "cell_type": "code",
   "execution_count": 12,
   "metadata": {},
   "outputs": [],
   "source": [
    "#Y_AFF"
   ]
  },
  {
   "cell_type": "code",
   "execution_count": 13,
   "metadata": {},
   "outputs": [],
   "source": [
    "# Gathering degrees in Y\n",
    "Y_DEGREES = set([])\n",
    "for i in range(len(Y_AFF)):\n",
    "    temp = PR(Y_AFF[i]).monomials()\n",
    "    l_temp = []\n",
    "    for j in range(len(temp)):\n",
    "        l_temp.append(temp[j].degree())\n",
    "    Y_DEGREES = Y_DEGREES.union(set(l_temp))\n",
    "\n",
    "Y_DEGREES = list((Y_DEGREES))\n",
    "Y_DEGREES.sort()        \n",
    "        "
   ]
  },
  {
   "cell_type": "code",
   "execution_count": 2,
   "metadata": {},
   "outputs": [],
   "source": [
    "#Y_DEGREES"
   ]
  },
  {
   "cell_type": "markdown",
   "metadata": {},
   "source": [
    "## STRUCTURE"
   ]
  },
  {
   "cell_type": "code",
   "execution_count": 15,
   "metadata": {},
   "outputs": [],
   "source": [
    "# We use minimal weight polynomials to get fast reduction for polynomials.\n",
    "#F.<xx> = GF(2**n, modulus='minimal_weight')\n",
    "MODULUS = BIG_FIELD.modulus()\n",
    "PTI_MULT = declare_ring([Block('X',n),Block('Y',n)],globals())\n",
    "PTIx_MULT = declare_ring([Block('X',n)],globals())\n",
    "PTIy_MULT = declare_ring([Block('Y',n)],globals())\n",
    "GROS_MULT.<Z> = PolynomialRing(PTI_MULT)\n",
    "R.<X>  = PolynomialRing(BIG_FIELD)\n",
    "MODULUS_inj = MODULUS(Z)\n",
    "parsing_RING= PolynomialRing(GF(2),'zz',2*n)\n"
   ]
  },
  {
   "cell_type": "code",
   "execution_count": null,
   "metadata": {},
   "outputs": [],
   "source": []
  },
  {
   "cell_type": "markdown",
   "metadata": {},
   "source": [
    "## COMPOSITION WITH S AND T"
   ]
  },
  {
   "cell_type": "code",
   "execution_count": 16,
   "metadata": {},
   "outputs": [],
   "source": [
    "## PREPARING AFFINE TRANSFORMATIONS"
   ]
  },
  {
   "cell_type": "code",
   "execution_count": 17,
   "metadata": {},
   "outputs": [],
   "source": [
    "## Sampling S and T, linear secrets in GL(n,GF(2))\n",
    "MG = GL(n,GF(2))\n",
    "#Sampling S in GL and its affine vector S_v\n",
    "S = MG.random_element()\n",
    "S_v = BIG_FIELD.random_element()\n",
    "S_v_coord = conv_GF_to_VS(n,S_v,BIG_FIELD)\n",
    "#Sampling T in GL an its affine vector T_v\n",
    "T = MG.random_element()\n",
    "T_v = BIG_FIELD.random_element()\n",
    "T_v_coord = conv_GF_to_VS(n,T_v,BIG_FIELD)\n",
    "# For Tinv, we have to add T_v then inversing T\n",
    "Tinv = T.inverse()"
   ]
  },
  {
   "cell_type": "code",
   "execution_count": 18,
   "metadata": {},
   "outputs": [],
   "source": [
    "# We need S_poly as input for the secret key and private key\n",
    "S_poly = AFF_to_PTI(n,list(PTI_MULT.gens()),S,S_v_coord)\n",
    "# We need Tinv as input for the affine multiple\n",
    "# Adding T_v, then inversing the linear part\n",
    "Tinv_input = [PTI_MULT.gens()[i+n]+T_v_coord[i] for i in range(n)]\n",
    "Tinv_poly = AFF_to_PTI(n,Tinv_input,Tinv,[0]*n)\n",
    "# We parse T to compute the public key\n",
    "T_parsed = parse_GL(n,T)"
   ]
  },
  {
   "cell_type": "markdown",
   "metadata": {},
   "source": [
    " ## COMPUTING THE PROJECTION OF THE AFFINE MULTIPLE"
   ]
  },
  {
   "cell_type": "markdown",
   "metadata": {},
   "source": [
    "### Computing polynomials in X and Y"
   ]
  },
  {
   "cell_type": "code",
   "execution_count": 19,
   "metadata": {},
   "outputs": [
    {
     "name": "stdout",
     "output_type": "stream",
     "text": [
      "7.31457257270813\n"
     ]
    }
   ],
   "source": [
    "# Gathering the monomials in x in the vector space.\n",
    "startT = time.time() \n",
    "X_MON = [1,]\n",
    "for i in range (len(Y_AFF)):\n",
    "    X_MON.append(compute_monomial_PTIlist_GROS_ctrl_size(n,2**i,MODULUS,S_poly,GROS_MULT))\n",
    "        \n",
    "print(str(time.time()-startT))"
   ]
  },
  {
   "cell_type": "code",
   "execution_count": 20,
   "metadata": {},
   "outputs": [
    {
     "name": "stdout",
     "output_type": "stream",
     "text": [
      "100.56440854072571\n"
     ]
    }
   ],
   "source": [
    "# Gathering the monomials in y in the vector space.\n",
    "# It takes some time \n",
    "startT = time.time() \n",
    "Y_MON = [1,]\n",
    "for i in Y_DEGREES[1:]:\n",
    "    Y_MON.append(compute_monomial_PTIlist_GROS_ctrl_size(n,i,MODULUS,Tinv_poly,GROS_MULT))    \n",
    "print(str(time.time()-startT))"
   ]
  },
  {
   "cell_type": "code",
   "execution_count": 21,
   "metadata": {},
   "outputs": [
    {
     "name": "stdout",
     "output_type": "stream",
     "text": [
      "0.2550232410430908\n"
     ]
    }
   ],
   "source": [
    "# Gathering the coefficients\n",
    "startT = time.time() \n",
    "COEFF_LIST = []\n",
    "for i in Y_AFF:\n",
    "    # Constant terms don't have coeffs.\n",
    "    if i != 0 and i != 1 :\n",
    "        L = PR(i).coefficients(sparse = false)\n",
    "        COEFFs = []\n",
    "        # We can evaluate constants however.\n",
    "        for j in L :\n",
    "            coeff = conv_GF_to_VS(n,BIG_FIELD(j),BIG_FIELD)\n",
    "            coeff =  sum([coeff[k]*(GROS_MULT.gens()[0])^k for k in range(len(coeff))])\n",
    "            # We convert them into vector space format\n",
    "            COEFFs.append(coeff)\n",
    "        COEFF_LIST.append(COEFFs)\n",
    "    else:\n",
    "        COEFF_LIST.append([i])\n",
    "    \n",
    "print(str(time.time()-startT))"
   ]
  },
  {
   "cell_type": "code",
   "execution_count": 22,
   "metadata": {},
   "outputs": [
    {
     "name": "stdout",
     "output_type": "stream",
     "text": [
      "146.40413999557495\n"
     ]
    }
   ],
   "source": [
    "# Computing polynomials in Y\n",
    "# It takes some time\n",
    "startT = time.time() \n",
    "AFF_MULTy = []\n",
    "for i in range(len(Y_AFF)):\n",
    "    TEMP = 0\n",
    "    for j in range(len(COEFF_LIST[i])):\n",
    "        if COEFF_LIST[i][j] != 0 :\n",
    "            temp = (COEFF_LIST[i][j]* Y_MON[Y_DEGREES.index(j)])%MODULUS_inj\n",
    "            TEMP = TEMP + temp\n",
    "    AFF_MULTy.append(TEMP)\n",
    "        \n",
    "print(str(time.time()-startT))"
   ]
  },
  {
   "cell_type": "code",
   "execution_count": 23,
   "metadata": {},
   "outputs": [
    {
     "name": "stdout",
     "output_type": "stream",
     "text": [
      "12.389324426651001\n"
     ]
    }
   ],
   "source": [
    "startT = time.time() \n",
    "\n",
    "# initialisation of X vector\n",
    "Xp = 0\n",
    "for i in range(n):\n",
    "        Xp = PTI_MULT.gens()[i]* (GROS_MULT.gens()[0]^i) + Xp\n",
    "        \n",
    "        \n",
    "# initialisation of Y vector\n",
    "Yp = 0\n",
    "for i in range(n):\n",
    "        Yp = PTI_MULT.gens()[i+n]* (GROS_MULT.gens()[0]^i) + Yp\n",
    "\n",
    "    \n",
    "# Computing the product functions\n",
    "prod_XY = []\n",
    "for i in X_MON:\n",
    "    prod_XY.append((Yp*i)%MODULUS_inj)\n",
    "        \n",
    "print(str(time.time()-startT))"
   ]
  },
  {
   "cell_type": "code",
   "execution_count": null,
   "metadata": {
    "scrolled": true
   },
   "outputs": [],
   "source": [
    "## We work with list of integers instead of polynomials for the rest of the algorithms to speed up the computations."
   ]
  },
  {
   "cell_type": "code",
   "execution_count": 27,
   "metadata": {},
   "outputs": [
    {
     "name": "stdout",
     "output_type": "stream",
     "text": [
      "76.38515090942383\n"
     ]
    }
   ],
   "source": [
    "# Transforming elements of AFF_MULTy in intlist format\n",
    "MON3 = mon3(n)\n",
    "# It takes some time\n",
    "startT = time.time() \n",
    "AFF_MULTy_intlist = []\n",
    "for i in range(len(AFF_MULTy)):\n",
    "    L = []\n",
    "    if AFF_MULTy[i] != 0:\n",
    "        for j in range(n):\n",
    "            if AFF_MULTy[i][j] != 0 :\n",
    "                L.append(poly_to_intlist(n,mbits,AFF_MULTy[i][j],MON3))\n",
    "            else:\n",
    "                #L.append([0]*Nmon)\n",
    "                L.append([0]*(int(Nmon//mbits)+(Nmon%mbits != 0)))\n",
    "        AFF_MULTy_intlist.append(L)\n",
    "    else:\n",
    "        for j in range(n):\n",
    "            #L.append([0]*Nmon)\n",
    "            L.append([0]*(int(Nmon//mbits)+(Nmon%mbits != 0)))\n",
    "        AFF_MULTy_intlist.append(L)\n",
    "print(str(time.time()-startT)) "
   ]
  },
  {
   "cell_type": "code",
   "execution_count": 28,
   "metadata": {},
   "outputs": [],
   "source": [
    "#AFF_MULTy_intlist"
   ]
  },
  {
   "cell_type": "code",
   "execution_count": 29,
   "metadata": {},
   "outputs": [],
   "source": [
    "# INPUT : integer n , prod_list are the coordinates of the multiplication in GF(2*n)\n",
    "# OUTPUT : XY_list,  XY_list[i][j] is the variable that is multiple of x_j in the ith coordinate of prod_list\n",
    "\n",
    "# can maybe optimize the 'getting variables part'\n",
    "def prod_GF_to_XYlist(n,prod_list):\n",
    "    XY_list = []\n",
    "    # going through coordinates\n",
    "    for i in range(n):\n",
    "        line = []\n",
    "        for j in range(n):\n",
    "            # getting the multiples of variable j\n",
    "            m = prod_list[i].set().multiples_of(PTI_MULT.gens()[j].lm())\n",
    "            # evaluating these multiples at 1 in j\n",
    "            m = m.subset1(j)\n",
    "            # getting the variables left\n",
    "            var_list = list(m.set().vars().iterindex())\n",
    "            if var_list == []:\n",
    "                line.append([])\n",
    "            else:\n",
    "                line.append(var_list)\n",
    "        # getting the constant coefficient by evaluating to 0\n",
    "        dictio = {}\n",
    "        for k in range(n):\n",
    "            dictio[PTI_MULT.gens()[k]] = 0\n",
    "        temp = prod_list[i].subs(dictio)\n",
    "        #### The last term is the constant coefficient ####\n",
    "        line.append(list(temp.set().vars().iterindex())+[temp.constant_coefficient()])\n",
    "        XY_list.append(line)\n",
    "    return(XY_list)\n",
    "            "
   ]
  },
  {
   "cell_type": "code",
   "execution_count": 30,
   "metadata": {},
   "outputs": [
    {
     "name": "stdout",
     "output_type": "stream",
     "text": [
      "99.41975474357605\n"
     ]
    }
   ],
   "source": [
    "startT = time.time() \n",
    "AFF_MULT_intlist = [[[0 for k in range(Nint +1)] for i in range(n+1)]for j in range(n)]\n",
    "# Going through AFF_MULTy_intlist\n",
    "for i in range(len(AFF_MULTy_intlist)):\n",
    "    # we build the addition matrix\n",
    "    matoche  = prod_GF_to_XYlist(n,prod_XY[i].coefficients(sparse = false))\n",
    "    # we add the polynomials, going trough the matoche\n",
    "    #lines\n",
    "    for j in range(n):\n",
    "        for k in range(n):\n",
    "            for ind in matoche[j][k]:\n",
    "                AFF_MULT_intlist[j][k] = xor_intlist(AFF_MULT_intlist[j][k],AFF_MULTy_intlist[i][ind-n])\n",
    "        # Adding the constant term\n",
    "        #print(matoche[j][n-1][:-1])\n",
    "        for ind in matoche[j][n][:-1]:\n",
    "             AFF_MULT_intlist[j][n] = xor_intlist(AFF_MULT_intlist[j][n],AFF_MULTy_intlist[i][ind-n])\n",
    "      \n",
    "        AFF_MULT_intlist[j][n][Nint] = \\\n",
    "        AFF_MULT_intlist[j][n][Nint].__xor__(int(matoche[j][n][-1])<< (Nint%mbits))\n",
    "            \n",
    "print(str(time.time()-startT))  \n",
    "            "
   ]
  },
  {
   "cell_type": "markdown",
   "metadata": {},
   "source": [
    "# PUBLIC KEY"
   ]
  },
  {
   "cell_type": "code",
   "execution_count": 31,
   "metadata": {},
   "outputs": [],
   "source": [
    "## PUBLIC KEY over GF(2)^n"
   ]
  },
  {
   "cell_type": "code",
   "execution_count": 39,
   "metadata": {},
   "outputs": [],
   "source": [
    "# COMPUTES THE PUBLIC KEY \n",
    "COEFF_1_vs  = conv_GF_to_VS(n,coeff_1,BIG_FIELD)\n",
    "COEFF_1_vs =  sum([COEFF_1_vs[k]*(GROS_MULT.gens()[0])^k for k in range(len(COEFF_1_vs))])\n",
    "\n",
    "# Generating  t random's quadratic\n",
    "t_QUADS = [PTIx_MULT.random_element(degree=2,terms = int(Nmon/2)) for i in range(t)]\n",
    "\n",
    "# COMPUTING Q\n",
    "Q = 0\n",
    "for i in range(t):\n",
    "    temp_Q = conv_GF_to_VS(n,Im_Q_base[i],BIG_FIELD)\n",
    "    temp_Q = sum([temp_Q[k]*t_QUADS[i]*(GROS_MULT.gens()[0])^k for k in range(len(temp_Q))])\n",
    "    Q = Q + temp_Q\n"
   ]
  },
  {
   "cell_type": "code",
   "execution_count": 40,
   "metadata": {},
   "outputs": [],
   "source": [
    "PLOP1 = (X_MON[1]*X_MON[2])%MODULUS_inj\n",
    "PLOP2 = (COEFF_1_vs*X_MON[2])%MODULUS_inj\n",
    "PLOP3 = (PLOP1+PLOP2+Q)"
   ]
  },
  {
   "cell_type": "code",
   "execution_count": 41,
   "metadata": {},
   "outputs": [],
   "source": [
    "PK  = PLOP3.coefficients(sparse = false)\n",
    "PUBLIC_KEY = [compo_GL(T_parsed[i],PK)+T_v_coord[i] for i in range(n)]"
   ]
  },
  {
   "cell_type": "code",
   "execution_count": null,
   "metadata": {},
   "outputs": [],
   "source": []
  },
  {
   "cell_type": "code",
   "execution_count": 42,
   "metadata": {},
   "outputs": [],
   "source": [
    "## VERIF WITH PUBLIC KEY"
   ]
  },
  {
   "cell_type": "code",
   "execution_count": 43,
   "metadata": {},
   "outputs": [],
   "source": [
    "test_sign = BIG_FIELD.random_element()\n",
    "test_sign_coord = conv_GF_to_VS(n,test_sign,BIG_FIELD)\n",
    "S_test_sign_coord = list(S*vector(test_sign_coord) + vector(S_v))"
   ]
  },
  {
   "cell_type": "code",
   "execution_count": 44,
   "metadata": {},
   "outputs": [],
   "source": [
    "# Evaluating Quads\n",
    "eval_QUADS = []\n",
    "for i in range(t):\n",
    "    eval_QUADS.append(eval_poly_set(test_sign_coord, t_QUADS[i].set(),PTI_MULT))\n",
    "    \n",
    "# IM Q\n",
    "Im_Q_eval  = 0\n",
    "for i in range(t):\n",
    "    Im_Q_eval = Im_Q_eval + Im_Q_base[i]*BIG_FIELD(eval_QUADS[i])\n",
    "    "
   ]
  },
  {
   "cell_type": "code",
   "execution_count": 45,
   "metadata": {},
   "outputs": [],
   "source": [
    "S_test_sign = conv_VS_to_GF(S_test_sign_coord,BIG_FIELD)\n",
    "test_msg = S_test_sign**3 + coeff_1 * S_test_sign**2 + Im_Q_eval\n",
    "test_msg = conv_GF_to_VS(n,test_msg,BIG_FIELD)\n",
    "test_msg_coord = list(T*vector(test_msg) + vector(T_v))\n"
   ]
  },
  {
   "cell_type": "code",
   "execution_count": 46,
   "metadata": {},
   "outputs": [
    {
     "name": "stdout",
     "output_type": "stream",
     "text": [
      "True\n"
     ]
    }
   ],
   "source": [
    "# CHECK FOR CORRECTNESS\n",
    "pot_msg = []\n",
    "for i in range(n):\n",
    "    pot_msg.append(eval_poly_set(test_sign_coord, PUBLIC_KEY[i].set(),PTI_MULT))\n",
    "print(test_msg_coord == pot_msg)"
   ]
  },
  {
   "cell_type": "code",
   "execution_count": 47,
   "metadata": {},
   "outputs": [],
   "source": [
    "# CHECK FOR IMQ in AFFMULT, if FALSE, it won't sign.\n",
    "while not(eval_QUADS in Im_Q_coeff_list):\n",
    "    test_sign = BIG_FIELD.random_element()\n",
    "    test_sign_coord = conv_GF_to_VS(n,test_sign,BIG_FIELD)\n",
    "    eval_QUADS = []\n",
    "    for i in range(t):\n",
    "        eval_QUADS.append(eval_poly_set(test_sign_coord, t_QUADS[i].set(),PTI_MULT))\n",
    "\n",
    "test_msg_coord = []\n",
    "for i in range(n):\n",
    "    test_msg_coord.append(eval_poly_set(test_sign_coord, PUBLIC_KEY[i].set(),PTI_MULT))"
   ]
  },
  {
   "cell_type": "code",
   "execution_count": 48,
   "metadata": {},
   "outputs": [],
   "source": [
    "# CONVERTING THE PK INTO INTLIST"
   ]
  },
  {
   "cell_type": "code",
   "execution_count": 49,
   "metadata": {},
   "outputs": [],
   "source": [
    "PK_MON = pk_mon(n)"
   ]
  },
  {
   "cell_type": "code",
   "execution_count": 50,
   "metadata": {},
   "outputs": [
    {
     "name": "stdout",
     "output_type": "stream",
     "text": [
      "1.259784460067749\n"
     ]
    }
   ],
   "source": [
    "startT = time.time() \n",
    "PK_intlist = []\n",
    "for i in range(n):\n",
    "    if PUBLIC_KEY[i] != 0:\n",
    "            PK_intlist.append(pk_to_intlist(n,mbits,PUBLIC_KEY[i],PK_MON))\n",
    "    else:    \n",
    "            PK_intlist.append([0]*(int(sigma(n,2)//mbits)+(sigma(n,2)%mbits != 0)))\n",
    "print(str(time.time()-startT)) "
   ]
  },
  {
   "cell_type": "code",
   "execution_count": 51,
   "metadata": {},
   "outputs": [
    {
     "data": {
      "text/plain": [
       "True"
      ]
     },
     "execution_count": 51,
     "metadata": {},
     "output_type": "execute_result"
    }
   ],
   "source": [
    "# CHECK ON THE CONVERTION\n",
    "test_sign_coord = [int(i) for i in test_sign_coord]\n",
    "MON_SIGN = sign_to_monintlist(n,mbits,test_sign_coord)\n",
    "CONV_MSG = []\n",
    "for i in range(n):\n",
    "    CONV_MSG.append(GF(2)(eval_intlist_poly(PK_intlist[i],MON_SIGN)))\n",
    "CONV_MSG == test_msg_coord"
   ]
  },
  {
   "cell_type": "markdown",
   "metadata": {},
   "source": [
    "## SIGNING"
   ]
  },
  {
   "cell_type": "code",
   "execution_count": 52,
   "metadata": {},
   "outputs": [],
   "source": [
    "# Computing monomials in the msg\n",
    "test_msg_coord = [int(i) for i in test_msg_coord]\n",
    "MON_MSG = msg_to_monintlist(n,mbits,test_msg_coord)"
   ]
  },
  {
   "cell_type": "code",
   "execution_count": 53,
   "metadata": {},
   "outputs": [],
   "source": [
    "# Building matrix\n",
    "MAT = []\n",
    "for i in range(n):\n",
    "    L = []\n",
    "    # eval non proj vars\n",
    "    for j in range(n):\n",
    "        L.append(GF(2)(eval_intlist_poly(AFF_MULT_intlist[i][j],MON_MSG)))\n",
    "    # eval cst\n",
    "    L.append(GF(2)(eval_intlist_poly(AFF_MULT_intlist[i][n],MON_MSG)))\n",
    "    MAT.append(L)"
   ]
  },
  {
   "cell_type": "code",
   "execution_count": 54,
   "metadata": {},
   "outputs": [],
   "source": [
    "# KERNEL OF THE LINEAR SYSTEM"
   ]
  },
  {
   "cell_type": "code",
   "execution_count": 55,
   "metadata": {},
   "outputs": [],
   "source": [
    "sol_space = matrix(MAT).right_kernel()"
   ]
  },
  {
   "cell_type": "code",
   "execution_count": 56,
   "metadata": {},
   "outputs": [
    {
     "data": {
      "text/plain": [
       "Vector space of degree 86 and dimension 5 over Finite Field of size 2\n",
       "Basis matrix:\n",
       "5 x 86 dense matrix over Finite Field of size 2"
      ]
     },
     "execution_count": 56,
     "metadata": {},
     "output_type": "execute_result"
    }
   ],
   "source": [
    "sol_space"
   ]
  },
  {
   "cell_type": "code",
   "execution_count": 57,
   "metadata": {},
   "outputs": [],
   "source": [
    "# CHECK THE SOLUTIONS WITH PK"
   ]
  },
  {
   "cell_type": "code",
   "execution_count": 58,
   "metadata": {},
   "outputs": [
    {
     "data": {
      "text/plain": [
       "True"
      ]
     },
     "execution_count": 58,
     "metadata": {},
     "output_type": "execute_result"
    }
   ],
   "source": [
    "vector(test_sign_coord + [1]) in sol_space"
   ]
  },
  {
   "cell_type": "markdown",
   "metadata": {},
   "source": [
    "# STORING IN FILES"
   ]
  },
  {
   "cell_type": "code",
   "execution_count": 61,
   "metadata": {},
   "outputs": [],
   "source": [
    "# assume 8 | mbits\n",
    "def mbits_list_to_8bits_list(L,mbits):\n",
    "    Lconv = []\n",
    "    d = mbits // 8\n",
    "    for i in range(len(L)-1):\n",
    "        int_temp = 0\n",
    "        for j in range(d):\n",
    "            int_temp = int(sum( [ ((L[i]>>(m + j*8))%2)<<m  for m in range(8)]))\n",
    "            Lconv.append(int_temp)\n",
    "    # last mbitd intint\n",
    "    r = Nmon%mbits\n",
    "    qd = r//8\n",
    "    rd = r%8\n",
    "    for i in range(qd):\n",
    "        int_temp =  int(sum( [ ((L[len(L)-1]>>(m + i*8))%2)<<m  for m in range(8)]))\n",
    "        Lconv.append(int_temp)\n",
    "    # last 8 bit int\n",
    "    int_temp = int(sum( [ ((L[len(L)-1]>>(m + qd*8))%2)<<m  for m in range(rd)]))\n",
    "    Lconv.append(int_temp)\n",
    "    return(Lconv)"
   ]
  },
  {
   "cell_type": "code",
   "execution_count": 62,
   "metadata": {},
   "outputs": [
    {
     "name": "stdout",
     "output_type": "stream",
     "text": [
      "828.330308675766\n"
     ]
    }
   ],
   "source": [
    "# Comverting the polynomials into 8bit lists\n",
    "startT = time.time()\n",
    "AFF_MULT_8bit = []\n",
    "for i in range(n):\n",
    "    LINE = []\n",
    "    for j in range(n+1):\n",
    "        LINE.append(mbits_list_to_8bits_list(AFF_MULT_intlist[i][j],mbits))\n",
    "    AFF_MULT_8bit.append(LINE)        \n",
    "    \n",
    "PK_8bit = []\n",
    "for i in range(n):\n",
    "        PK_8bit.append(mbits_list_to_8bits_list(PK_intlist[i],mbits))    \n",
    "print(str(time.time()-startT))"
   ]
  },
  {
   "cell_type": "code",
   "execution_count": 63,
   "metadata": {},
   "outputs": [],
   "source": [
    "def matrix_to_file(n,L,file_name):\n",
    "    file = open(file_name, \"wb\")\n",
    "    for i in range(n):\n",
    "        for j in range(n+1):\n",
    "                file.write(bytearray(L[i][j]))\n",
    "    file.close()               \n",
    "    return()\n",
    "\n",
    "# We only give the first n-a coordinates\n",
    "a = 5\n",
    "def pk_to_file(n,L,file_name):\n",
    "    file = open(file_name, \"wb\")\n",
    "    for i in range(len(L)-5):\n",
    "                file.write(bytearray(L[i]))\n",
    "    file.close()               \n",
    "    return()\n",
    "\n",
    "def test_to_file(ntest,T,file_name):\n",
    "    file = open(file_name, \"wb\")\n",
    "    for i in range(ntest):\n",
    "            file.write(bytearray(T[0][i]))\n",
    "    for i in range(ntest):\n",
    "            file.write(bytearray(T[1][i]))\n",
    "    file.close() \n",
    "    \n",
    "    "
   ]
  },
  {
   "cell_type": "code",
   "execution_count": 64,
   "metadata": {},
   "outputs": [
    {
     "name": "stdout",
     "output_type": "stream",
     "text": [
      "0.0007603168487548828\n"
     ]
    }
   ],
   "source": [
    "startT = time.time()\n",
    "pk_to_file(n,PK_8bit,'PK_challenge.bin')\n",
    "matrix_to_file(n,AFF_MULT_8bit,'AFFMULT_challenge.bin')\n",
    "test_to_file(1,[[test_msg_coord],[test_sign_coord]],'TEST_challenge.bin')\n",
    "print(str(time.time()-startT))"
   ]
  },
  {
   "cell_type": "code",
   "execution_count": 68,
   "metadata": {},
   "outputs": [],
   "source": []
  },
  {
   "cell_type": "code",
   "execution_count": null,
   "metadata": {},
   "outputs": [],
   "source": []
  },
  {
   "cell_type": "code",
   "execution_count": null,
   "metadata": {},
   "outputs": [],
   "source": []
  },
  {
   "cell_type": "code",
   "execution_count": null,
   "metadata": {},
   "outputs": [],
   "source": []
  },
  {
   "cell_type": "code",
   "execution_count": null,
   "metadata": {},
   "outputs": [],
   "source": []
  },
  {
   "cell_type": "code",
   "execution_count": null,
   "metadata": {},
   "outputs": [],
   "source": []
  }
 ],
 "metadata": {
  "kernelspec": {
   "display_name": "SageMath 9.3",
   "language": "sage",
   "name": "sagemath"
  },
  "language_info": {
   "codemirror_mode": {
    "name": "ipython",
    "version": 3
   },
   "file_extension": ".py",
   "mimetype": "text/x-python",
   "name": "python",
   "nbconvert_exporter": "python",
   "pygments_lexer": "ipython3",
   "version": "3.7.10"
  }
 },
 "nbformat": 4,
 "nbformat_minor": 4
}

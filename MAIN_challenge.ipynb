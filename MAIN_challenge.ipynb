{
 "cells": [
  {
   "cell_type": "markdown",
   "metadata": {},
   "source": [
    "### LOADING TOOLBOX"
   ]
  },
  {
   "cell_type": "code",
   "execution_count": 20,
   "metadata": {},
   "outputs": [],
   "source": [
    "load(\"lib.sage\")"
   ]
  },
  {
   "cell_type": "markdown",
   "metadata": {},
   "source": [
    "### DATA"
   ]
  },
  {
   "cell_type": "code",
   "execution_count": 21,
   "metadata": {},
   "outputs": [],
   "source": [
    "n = 85\n",
    "Nmon = sigma(n,3)\n",
    "ntest = 1  \n",
    "a = 5"
   ]
  },
  {
   "cell_type": "markdown",
   "metadata": {},
   "source": [
    "### LOADING CHALLENGE"
   ]
  },
  {
   "cell_type": "code",
   "execution_count": 22,
   "metadata": {},
   "outputs": [],
   "source": [
    "# Loading the affine multiple : it's a n by n matrix of polynomials\n",
    "AFF_MULT_8bit = file_to_matrix(n,'AFFMULT_challenge.bin')\n",
    "# Loading the public key : there is n-a equations \n",
    "PK_8bit = file_to_pk(n,a,'PK_challenge.bin')\n",
    "# Loading test values\n",
    "TEST = file_to_test(ntest,'TEST_challenge.bin')\n",
    "MSG = TEST[0][0]\n",
    "MON_MSG_8bit= msg_to_monintlist(n,8,MSG)\n",
    "SIGN = TEST[1][0]"
   ]
  },
  {
   "cell_type": "markdown",
   "metadata": {},
   "source": [
    "### CHECKING TEST "
   ]
  },
  {
   "cell_type": "code",
   "execution_count": 23,
   "metadata": {},
   "outputs": [],
   "source": [
    "# Computing the affine multiple matrix\n",
    "MAT = []\n",
    "for i in range(n):\n",
    "    L = []\n",
    "    # eval vars\n",
    "    for j in range(n):\n",
    "        L.append(GF(2)(eval_intlist_poly(AFF_MULT_8bit[i][j],MON_MSG_8bit)))\n",
    "    # eval cst\n",
    "    L.append(GF(2)(eval_intlist_poly(AFF_MULT_8bit[i][n],MON_MSG_8bit)))\n",
    "    MAT.append(L)"
   ]
  },
  {
   "cell_type": "code",
   "execution_count": 24,
   "metadata": {},
   "outputs": [],
   "source": [
    "sol_space = matrix(MAT).right_kernel()"
   ]
  },
  {
   "cell_type": "code",
   "execution_count": 25,
   "metadata": {},
   "outputs": [
    {
     "data": {
      "text/plain": [
       "True"
      ]
     },
     "execution_count": 25,
     "metadata": {},
     "output_type": "execute_result"
    }
   ],
   "source": [
    "vector(SIGN + [1]) in sol_space"
   ]
  },
  {
   "cell_type": "code",
   "execution_count": null,
   "metadata": {},
   "outputs": [],
   "source": []
  }
 ],
 "metadata": {
  "kernelspec": {
   "display_name": "SageMath 9.2",
   "language": "sage",
   "name": "sagemath"
  },
  "language_info": {
   "codemirror_mode": {
    "name": "ipython",
    "version": 3
   },
   "file_extension": ".py",
   "mimetype": "text/x-python",
   "name": "python",
   "nbconvert_exporter": "python",
   "pygments_lexer": "ipython3",
   "version": "3.7.7"
  }
 },
 "nbformat": 4,
 "nbformat_minor": 4
}
